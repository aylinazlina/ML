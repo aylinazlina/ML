{
 "cells": [
  {
   "cell_type": "code",
   "execution_count": 65,
   "id": "b8ff249f",
   "metadata": {},
   "outputs": [],
   "source": [
    "import pandas as pd \n",
    "import numpy as np \n",
    "from matplotlib import pyplot as plt \n",
    "import seaborn as sns \n",
    "import warnings\n",
    "warnings.filterwarnings('ignore')"
   ]
  },
  {
   "cell_type": "code",
   "execution_count": 66,
   "id": "7db796d2",
   "metadata": {},
   "outputs": [],
   "source": [
    "df =pd.read_excel(\"insurance(2).xlsx\")"
   ]
  },
  {
   "cell_type": "code",
   "execution_count": 67,
   "id": "8f00a47f",
   "metadata": {},
   "outputs": [
    {
     "data": {
      "text/html": [
       "<div>\n",
       "<style scoped>\n",
       "    .dataframe tbody tr th:only-of-type {\n",
       "        vertical-align: middle;\n",
       "    }\n",
       "\n",
       "    .dataframe tbody tr th {\n",
       "        vertical-align: top;\n",
       "    }\n",
       "\n",
       "    .dataframe thead th {\n",
       "        text-align: right;\n",
       "    }\n",
       "</style>\n",
       "<table border=\"1\" class=\"dataframe\">\n",
       "  <thead>\n",
       "    <tr style=\"text-align: right;\">\n",
       "      <th></th>\n",
       "      <th>age</th>\n",
       "      <th>sex</th>\n",
       "      <th>bmi</th>\n",
       "      <th>children</th>\n",
       "      <th>smoker</th>\n",
       "      <th>region</th>\n",
       "      <th>charges</th>\n",
       "    </tr>\n",
       "  </thead>\n",
       "  <tbody>\n",
       "    <tr>\n",
       "      <th>0</th>\n",
       "      <td>19</td>\n",
       "      <td>female</td>\n",
       "      <td>27.900</td>\n",
       "      <td>0</td>\n",
       "      <td>yes</td>\n",
       "      <td>southwest</td>\n",
       "      <td>16884.92400</td>\n",
       "    </tr>\n",
       "    <tr>\n",
       "      <th>1</th>\n",
       "      <td>18</td>\n",
       "      <td>male</td>\n",
       "      <td>33.770</td>\n",
       "      <td>1</td>\n",
       "      <td>no</td>\n",
       "      <td>southeast</td>\n",
       "      <td>1725.55230</td>\n",
       "    </tr>\n",
       "    <tr>\n",
       "      <th>2</th>\n",
       "      <td>28</td>\n",
       "      <td>male</td>\n",
       "      <td>33.000</td>\n",
       "      <td>3</td>\n",
       "      <td>no</td>\n",
       "      <td>southeast</td>\n",
       "      <td>4449.46200</td>\n",
       "    </tr>\n",
       "    <tr>\n",
       "      <th>3</th>\n",
       "      <td>33</td>\n",
       "      <td>male</td>\n",
       "      <td>22.705</td>\n",
       "      <td>0</td>\n",
       "      <td>no</td>\n",
       "      <td>northwest</td>\n",
       "      <td>21984.47061</td>\n",
       "    </tr>\n",
       "    <tr>\n",
       "      <th>4</th>\n",
       "      <td>32</td>\n",
       "      <td>male</td>\n",
       "      <td>28.880</td>\n",
       "      <td>0</td>\n",
       "      <td>no</td>\n",
       "      <td>northwest</td>\n",
       "      <td>3866.85520</td>\n",
       "    </tr>\n",
       "  </tbody>\n",
       "</table>\n",
       "</div>"
      ],
      "text/plain": [
       "   age     sex     bmi  children smoker     region      charges\n",
       "0   19  female  27.900         0    yes  southwest  16884.92400\n",
       "1   18    male  33.770         1     no  southeast   1725.55230\n",
       "2   28    male  33.000         3     no  southeast   4449.46200\n",
       "3   33    male  22.705         0     no  northwest  21984.47061\n",
       "4   32    male  28.880         0     no  northwest   3866.85520"
      ]
     },
     "execution_count": 67,
     "metadata": {},
     "output_type": "execute_result"
    }
   ],
   "source": [
    "df.head()"
   ]
  },
  {
   "cell_type": "code",
   "execution_count": 68,
   "id": "58cd3762",
   "metadata": {},
   "outputs": [
    {
     "name": "stdout",
     "output_type": "stream",
     "text": [
      "<class 'pandas.core.frame.DataFrame'>\n",
      "RangeIndex: 1338 entries, 0 to 1337\n",
      "Data columns (total 7 columns):\n",
      " #   Column    Non-Null Count  Dtype  \n",
      "---  ------    --------------  -----  \n",
      " 0   age       1338 non-null   int64  \n",
      " 1   sex       1338 non-null   object \n",
      " 2   bmi       1338 non-null   float64\n",
      " 3   children  1338 non-null   int64  \n",
      " 4   smoker    1338 non-null   object \n",
      " 5   region    1338 non-null   object \n",
      " 6   charges   1338 non-null   float64\n",
      "dtypes: float64(2), int64(2), object(3)\n",
      "memory usage: 73.3+ KB\n"
     ]
    }
   ],
   "source": [
    "df.info()"
   ]
  },
  {
   "cell_type": "code",
   "execution_count": 69,
   "id": "d773ddd2",
   "metadata": {},
   "outputs": [
    {
     "data": {
      "text/plain": [
       "age         0\n",
       "sex         0\n",
       "bmi         0\n",
       "children    0\n",
       "smoker      0\n",
       "region      0\n",
       "charges     0\n",
       "dtype: int64"
      ]
     },
     "execution_count": 69,
     "metadata": {},
     "output_type": "execute_result"
    }
   ],
   "source": [
    "df.isna().sum()"
   ]
  },
  {
   "cell_type": "code",
   "execution_count": 70,
   "id": "5197fe36",
   "metadata": {},
   "outputs": [
    {
     "data": {
      "text/plain": [
       "age           47\n",
       "sex            2\n",
       "bmi          548\n",
       "children       6\n",
       "smoker         2\n",
       "region         4\n",
       "charges     1337\n",
       "dtype: int64"
      ]
     },
     "execution_count": 70,
     "metadata": {},
     "output_type": "execute_result"
    }
   ],
   "source": [
    "df.nunique()"
   ]
  },
  {
   "cell_type": "code",
   "execution_count": 71,
   "id": "afbed580",
   "metadata": {},
   "outputs": [],
   "source": [
    "area1 = df.region.unique()"
   ]
  },
  {
   "cell_type": "code",
   "execution_count": 72,
   "id": "1e59cb0c",
   "metadata": {},
   "outputs": [
    {
     "data": {
      "text/plain": [
       "array(['southwest', 'southeast', 'northwest', 'northeast'], dtype=object)"
      ]
     },
     "execution_count": 72,
     "metadata": {},
     "output_type": "execute_result"
    }
   ],
   "source": [
    "area1"
   ]
  },
  {
   "cell_type": "code",
   "execution_count": 73,
   "id": "a42b1590",
   "metadata": {},
   "outputs": [],
   "source": [
    "df.region=df.region.replace(['southwest', 'southeast', 'northwest', 'northeast'],[1,2,3,4])"
   ]
  },
  {
   "cell_type": "code",
   "execution_count": 74,
   "id": "a779c1c6",
   "metadata": {},
   "outputs": [
    {
     "data": {
      "text/plain": [
       "0       1\n",
       "1       2\n",
       "2       2\n",
       "3       3\n",
       "4       3\n",
       "       ..\n",
       "1333    3\n",
       "1334    4\n",
       "1335    2\n",
       "1336    1\n",
       "1337    3\n",
       "Name: region, Length: 1338, dtype: int64"
      ]
     },
     "execution_count": 74,
     "metadata": {},
     "output_type": "execute_result"
    }
   ],
   "source": [
    "df.region"
   ]
  },
  {
   "cell_type": "code",
   "execution_count": 75,
   "id": "0975b562",
   "metadata": {},
   "outputs": [
    {
     "data": {
      "text/html": [
       "<div>\n",
       "<style scoped>\n",
       "    .dataframe tbody tr th:only-of-type {\n",
       "        vertical-align: middle;\n",
       "    }\n",
       "\n",
       "    .dataframe tbody tr th {\n",
       "        vertical-align: top;\n",
       "    }\n",
       "\n",
       "    .dataframe thead th {\n",
       "        text-align: right;\n",
       "    }\n",
       "</style>\n",
       "<table border=\"1\" class=\"dataframe\">\n",
       "  <thead>\n",
       "    <tr style=\"text-align: right;\">\n",
       "      <th></th>\n",
       "      <th>age</th>\n",
       "      <th>sex</th>\n",
       "      <th>bmi</th>\n",
       "      <th>children</th>\n",
       "      <th>smoker</th>\n",
       "      <th>region</th>\n",
       "      <th>charges</th>\n",
       "    </tr>\n",
       "  </thead>\n",
       "  <tbody>\n",
       "    <tr>\n",
       "      <th>0</th>\n",
       "      <td>19</td>\n",
       "      <td>female</td>\n",
       "      <td>27.900</td>\n",
       "      <td>0</td>\n",
       "      <td>yes</td>\n",
       "      <td>1</td>\n",
       "      <td>16884.92400</td>\n",
       "    </tr>\n",
       "    <tr>\n",
       "      <th>1</th>\n",
       "      <td>18</td>\n",
       "      <td>male</td>\n",
       "      <td>33.770</td>\n",
       "      <td>1</td>\n",
       "      <td>no</td>\n",
       "      <td>2</td>\n",
       "      <td>1725.55230</td>\n",
       "    </tr>\n",
       "    <tr>\n",
       "      <th>2</th>\n",
       "      <td>28</td>\n",
       "      <td>male</td>\n",
       "      <td>33.000</td>\n",
       "      <td>3</td>\n",
       "      <td>no</td>\n",
       "      <td>2</td>\n",
       "      <td>4449.46200</td>\n",
       "    </tr>\n",
       "    <tr>\n",
       "      <th>3</th>\n",
       "      <td>33</td>\n",
       "      <td>male</td>\n",
       "      <td>22.705</td>\n",
       "      <td>0</td>\n",
       "      <td>no</td>\n",
       "      <td>3</td>\n",
       "      <td>21984.47061</td>\n",
       "    </tr>\n",
       "    <tr>\n",
       "      <th>4</th>\n",
       "      <td>32</td>\n",
       "      <td>male</td>\n",
       "      <td>28.880</td>\n",
       "      <td>0</td>\n",
       "      <td>no</td>\n",
       "      <td>3</td>\n",
       "      <td>3866.85520</td>\n",
       "    </tr>\n",
       "  </tbody>\n",
       "</table>\n",
       "</div>"
      ],
      "text/plain": [
       "   age     sex     bmi  children smoker  region      charges\n",
       "0   19  female  27.900         0    yes       1  16884.92400\n",
       "1   18    male  33.770         1     no       2   1725.55230\n",
       "2   28    male  33.000         3     no       2   4449.46200\n",
       "3   33    male  22.705         0     no       3  21984.47061\n",
       "4   32    male  28.880         0     no       3   3866.85520"
      ]
     },
     "execution_count": 75,
     "metadata": {},
     "output_type": "execute_result"
    }
   ],
   "source": [
    "df.head()"
   ]
  },
  {
   "cell_type": "code",
   "execution_count": 76,
   "id": "c7db37b3",
   "metadata": {},
   "outputs": [],
   "source": [
    "df.smoker = df.smoker.replace(['yes','no'],[5,6])"
   ]
  },
  {
   "cell_type": "code",
   "execution_count": 77,
   "id": "d9def4ce",
   "metadata": {},
   "outputs": [
    {
     "data": {
      "text/plain": [
       "0       5\n",
       "1       6\n",
       "2       6\n",
       "3       6\n",
       "4       6\n",
       "       ..\n",
       "1333    6\n",
       "1334    6\n",
       "1335    6\n",
       "1336    6\n",
       "1337    5\n",
       "Name: smoker, Length: 1338, dtype: int64"
      ]
     },
     "execution_count": 77,
     "metadata": {},
     "output_type": "execute_result"
    }
   ],
   "source": [
    "df.smoker"
   ]
  },
  {
   "cell_type": "code",
   "execution_count": 78,
   "id": "444e108b",
   "metadata": {},
   "outputs": [
    {
     "data": {
      "text/html": [
       "<div>\n",
       "<style scoped>\n",
       "    .dataframe tbody tr th:only-of-type {\n",
       "        vertical-align: middle;\n",
       "    }\n",
       "\n",
       "    .dataframe tbody tr th {\n",
       "        vertical-align: top;\n",
       "    }\n",
       "\n",
       "    .dataframe thead th {\n",
       "        text-align: right;\n",
       "    }\n",
       "</style>\n",
       "<table border=\"1\" class=\"dataframe\">\n",
       "  <thead>\n",
       "    <tr style=\"text-align: right;\">\n",
       "      <th></th>\n",
       "      <th>age</th>\n",
       "      <th>sex</th>\n",
       "      <th>bmi</th>\n",
       "      <th>children</th>\n",
       "      <th>smoker</th>\n",
       "      <th>region</th>\n",
       "      <th>charges</th>\n",
       "    </tr>\n",
       "  </thead>\n",
       "  <tbody>\n",
       "    <tr>\n",
       "      <th>0</th>\n",
       "      <td>19</td>\n",
       "      <td>female</td>\n",
       "      <td>27.900</td>\n",
       "      <td>0</td>\n",
       "      <td>5</td>\n",
       "      <td>1</td>\n",
       "      <td>16884.92400</td>\n",
       "    </tr>\n",
       "    <tr>\n",
       "      <th>1</th>\n",
       "      <td>18</td>\n",
       "      <td>male</td>\n",
       "      <td>33.770</td>\n",
       "      <td>1</td>\n",
       "      <td>6</td>\n",
       "      <td>2</td>\n",
       "      <td>1725.55230</td>\n",
       "    </tr>\n",
       "    <tr>\n",
       "      <th>2</th>\n",
       "      <td>28</td>\n",
       "      <td>male</td>\n",
       "      <td>33.000</td>\n",
       "      <td>3</td>\n",
       "      <td>6</td>\n",
       "      <td>2</td>\n",
       "      <td>4449.46200</td>\n",
       "    </tr>\n",
       "    <tr>\n",
       "      <th>3</th>\n",
       "      <td>33</td>\n",
       "      <td>male</td>\n",
       "      <td>22.705</td>\n",
       "      <td>0</td>\n",
       "      <td>6</td>\n",
       "      <td>3</td>\n",
       "      <td>21984.47061</td>\n",
       "    </tr>\n",
       "    <tr>\n",
       "      <th>4</th>\n",
       "      <td>32</td>\n",
       "      <td>male</td>\n",
       "      <td>28.880</td>\n",
       "      <td>0</td>\n",
       "      <td>6</td>\n",
       "      <td>3</td>\n",
       "      <td>3866.85520</td>\n",
       "    </tr>\n",
       "  </tbody>\n",
       "</table>\n",
       "</div>"
      ],
      "text/plain": [
       "   age     sex     bmi  children  smoker  region      charges\n",
       "0   19  female  27.900         0       5       1  16884.92400\n",
       "1   18    male  33.770         1       6       2   1725.55230\n",
       "2   28    male  33.000         3       6       2   4449.46200\n",
       "3   33    male  22.705         0       6       3  21984.47061\n",
       "4   32    male  28.880         0       6       3   3866.85520"
      ]
     },
     "execution_count": 78,
     "metadata": {},
     "output_type": "execute_result"
    }
   ],
   "source": [
    "df.head()"
   ]
  },
  {
   "cell_type": "code",
   "execution_count": 79,
   "id": "46746927",
   "metadata": {},
   "outputs": [
    {
     "data": {
      "text/plain": [
       "array(['female', 'male'], dtype=object)"
      ]
     },
     "execution_count": 79,
     "metadata": {},
     "output_type": "execute_result"
    }
   ],
   "source": [
    "df.sex.unique()"
   ]
  },
  {
   "cell_type": "code",
   "execution_count": 80,
   "id": "452e2d35",
   "metadata": {},
   "outputs": [],
   "source": [
    "df.sex=df.sex.replace(['female', 'male'],[11,22])"
   ]
  },
  {
   "cell_type": "code",
   "execution_count": 81,
   "id": "c4e03c6e",
   "metadata": {},
   "outputs": [
    {
     "data": {
      "text/plain": [
       "0       11\n",
       "1       22\n",
       "2       22\n",
       "3       22\n",
       "4       22\n",
       "        ..\n",
       "1333    22\n",
       "1334    11\n",
       "1335    11\n",
       "1336    11\n",
       "1337    11\n",
       "Name: sex, Length: 1338, dtype: int64"
      ]
     },
     "execution_count": 81,
     "metadata": {},
     "output_type": "execute_result"
    }
   ],
   "source": [
    "df.sex"
   ]
  },
  {
   "cell_type": "code",
   "execution_count": 82,
   "id": "115b2f29",
   "metadata": {},
   "outputs": [
    {
     "data": {
      "text/html": [
       "<div>\n",
       "<style scoped>\n",
       "    .dataframe tbody tr th:only-of-type {\n",
       "        vertical-align: middle;\n",
       "    }\n",
       "\n",
       "    .dataframe tbody tr th {\n",
       "        vertical-align: top;\n",
       "    }\n",
       "\n",
       "    .dataframe thead th {\n",
       "        text-align: right;\n",
       "    }\n",
       "</style>\n",
       "<table border=\"1\" class=\"dataframe\">\n",
       "  <thead>\n",
       "    <tr style=\"text-align: right;\">\n",
       "      <th></th>\n",
       "      <th>age</th>\n",
       "      <th>sex</th>\n",
       "      <th>bmi</th>\n",
       "      <th>children</th>\n",
       "      <th>smoker</th>\n",
       "      <th>region</th>\n",
       "      <th>charges</th>\n",
       "    </tr>\n",
       "  </thead>\n",
       "  <tbody>\n",
       "    <tr>\n",
       "      <th>0</th>\n",
       "      <td>19</td>\n",
       "      <td>11</td>\n",
       "      <td>27.900</td>\n",
       "      <td>0</td>\n",
       "      <td>5</td>\n",
       "      <td>1</td>\n",
       "      <td>16884.92400</td>\n",
       "    </tr>\n",
       "    <tr>\n",
       "      <th>1</th>\n",
       "      <td>18</td>\n",
       "      <td>22</td>\n",
       "      <td>33.770</td>\n",
       "      <td>1</td>\n",
       "      <td>6</td>\n",
       "      <td>2</td>\n",
       "      <td>1725.55230</td>\n",
       "    </tr>\n",
       "    <tr>\n",
       "      <th>2</th>\n",
       "      <td>28</td>\n",
       "      <td>22</td>\n",
       "      <td>33.000</td>\n",
       "      <td>3</td>\n",
       "      <td>6</td>\n",
       "      <td>2</td>\n",
       "      <td>4449.46200</td>\n",
       "    </tr>\n",
       "    <tr>\n",
       "      <th>3</th>\n",
       "      <td>33</td>\n",
       "      <td>22</td>\n",
       "      <td>22.705</td>\n",
       "      <td>0</td>\n",
       "      <td>6</td>\n",
       "      <td>3</td>\n",
       "      <td>21984.47061</td>\n",
       "    </tr>\n",
       "    <tr>\n",
       "      <th>4</th>\n",
       "      <td>32</td>\n",
       "      <td>22</td>\n",
       "      <td>28.880</td>\n",
       "      <td>0</td>\n",
       "      <td>6</td>\n",
       "      <td>3</td>\n",
       "      <td>3866.85520</td>\n",
       "    </tr>\n",
       "  </tbody>\n",
       "</table>\n",
       "</div>"
      ],
      "text/plain": [
       "   age  sex     bmi  children  smoker  region      charges\n",
       "0   19   11  27.900         0       5       1  16884.92400\n",
       "1   18   22  33.770         1       6       2   1725.55230\n",
       "2   28   22  33.000         3       6       2   4449.46200\n",
       "3   33   22  22.705         0       6       3  21984.47061\n",
       "4   32   22  28.880         0       6       3   3866.85520"
      ]
     },
     "execution_count": 82,
     "metadata": {},
     "output_type": "execute_result"
    }
   ],
   "source": [
    "df.head()"
   ]
  },
  {
   "cell_type": "code",
   "execution_count": 83,
   "id": "5654ac0b",
   "metadata": {},
   "outputs": [],
   "source": [
    "df = pd.get_dummies(df,drop_first='True')"
   ]
  },
  {
   "cell_type": "code",
   "execution_count": 84,
   "id": "baaa81ae",
   "metadata": {},
   "outputs": [
    {
     "data": {
      "text/html": [
       "<div>\n",
       "<style scoped>\n",
       "    .dataframe tbody tr th:only-of-type {\n",
       "        vertical-align: middle;\n",
       "    }\n",
       "\n",
       "    .dataframe tbody tr th {\n",
       "        vertical-align: top;\n",
       "    }\n",
       "\n",
       "    .dataframe thead th {\n",
       "        text-align: right;\n",
       "    }\n",
       "</style>\n",
       "<table border=\"1\" class=\"dataframe\">\n",
       "  <thead>\n",
       "    <tr style=\"text-align: right;\">\n",
       "      <th></th>\n",
       "      <th>age</th>\n",
       "      <th>sex</th>\n",
       "      <th>bmi</th>\n",
       "      <th>children</th>\n",
       "      <th>smoker</th>\n",
       "      <th>region</th>\n",
       "      <th>charges</th>\n",
       "    </tr>\n",
       "  </thead>\n",
       "  <tbody>\n",
       "    <tr>\n",
       "      <th>0</th>\n",
       "      <td>19</td>\n",
       "      <td>11</td>\n",
       "      <td>27.900</td>\n",
       "      <td>0</td>\n",
       "      <td>5</td>\n",
       "      <td>1</td>\n",
       "      <td>16884.92400</td>\n",
       "    </tr>\n",
       "    <tr>\n",
       "      <th>1</th>\n",
       "      <td>18</td>\n",
       "      <td>22</td>\n",
       "      <td>33.770</td>\n",
       "      <td>1</td>\n",
       "      <td>6</td>\n",
       "      <td>2</td>\n",
       "      <td>1725.55230</td>\n",
       "    </tr>\n",
       "    <tr>\n",
       "      <th>2</th>\n",
       "      <td>28</td>\n",
       "      <td>22</td>\n",
       "      <td>33.000</td>\n",
       "      <td>3</td>\n",
       "      <td>6</td>\n",
       "      <td>2</td>\n",
       "      <td>4449.46200</td>\n",
       "    </tr>\n",
       "    <tr>\n",
       "      <th>3</th>\n",
       "      <td>33</td>\n",
       "      <td>22</td>\n",
       "      <td>22.705</td>\n",
       "      <td>0</td>\n",
       "      <td>6</td>\n",
       "      <td>3</td>\n",
       "      <td>21984.47061</td>\n",
       "    </tr>\n",
       "    <tr>\n",
       "      <th>4</th>\n",
       "      <td>32</td>\n",
       "      <td>22</td>\n",
       "      <td>28.880</td>\n",
       "      <td>0</td>\n",
       "      <td>6</td>\n",
       "      <td>3</td>\n",
       "      <td>3866.85520</td>\n",
       "    </tr>\n",
       "  </tbody>\n",
       "</table>\n",
       "</div>"
      ],
      "text/plain": [
       "   age  sex     bmi  children  smoker  region      charges\n",
       "0   19   11  27.900         0       5       1  16884.92400\n",
       "1   18   22  33.770         1       6       2   1725.55230\n",
       "2   28   22  33.000         3       6       2   4449.46200\n",
       "3   33   22  22.705         0       6       3  21984.47061\n",
       "4   32   22  28.880         0       6       3   3866.85520"
      ]
     },
     "execution_count": 84,
     "metadata": {},
     "output_type": "execute_result"
    }
   ],
   "source": [
    "df.head()"
   ]
  },
  {
   "cell_type": "code",
   "execution_count": 85,
   "id": "14accbc1",
   "metadata": {},
   "outputs": [
    {
     "data": {
      "text/html": [
       "<div>\n",
       "<style scoped>\n",
       "    .dataframe tbody tr th:only-of-type {\n",
       "        vertical-align: middle;\n",
       "    }\n",
       "\n",
       "    .dataframe tbody tr th {\n",
       "        vertical-align: top;\n",
       "    }\n",
       "\n",
       "    .dataframe thead th {\n",
       "        text-align: right;\n",
       "    }\n",
       "</style>\n",
       "<table border=\"1\" class=\"dataframe\">\n",
       "  <thead>\n",
       "    <tr style=\"text-align: right;\">\n",
       "      <th></th>\n",
       "      <th>age</th>\n",
       "      <th>sex</th>\n",
       "      <th>bmi</th>\n",
       "      <th>children</th>\n",
       "      <th>smoker</th>\n",
       "      <th>region</th>\n",
       "      <th>charges</th>\n",
       "    </tr>\n",
       "  </thead>\n",
       "  <tbody>\n",
       "    <tr>\n",
       "      <th>count</th>\n",
       "      <td>1338.000000</td>\n",
       "      <td>1338.000000</td>\n",
       "      <td>1338.000000</td>\n",
       "      <td>1338.000000</td>\n",
       "      <td>1338.000000</td>\n",
       "      <td>1338.000000</td>\n",
       "      <td>1338.000000</td>\n",
       "    </tr>\n",
       "    <tr>\n",
       "      <th>mean</th>\n",
       "      <td>39.207025</td>\n",
       "      <td>16.557549</td>\n",
       "      <td>30.663397</td>\n",
       "      <td>1.094918</td>\n",
       "      <td>5.795217</td>\n",
       "      <td>2.484305</td>\n",
       "      <td>13270.422265</td>\n",
       "    </tr>\n",
       "    <tr>\n",
       "      <th>std</th>\n",
       "      <td>14.049960</td>\n",
       "      <td>5.501755</td>\n",
       "      <td>6.098187</td>\n",
       "      <td>1.205493</td>\n",
       "      <td>0.403694</td>\n",
       "      <td>1.104885</td>\n",
       "      <td>12110.011237</td>\n",
       "    </tr>\n",
       "    <tr>\n",
       "      <th>min</th>\n",
       "      <td>18.000000</td>\n",
       "      <td>11.000000</td>\n",
       "      <td>15.960000</td>\n",
       "      <td>0.000000</td>\n",
       "      <td>5.000000</td>\n",
       "      <td>1.000000</td>\n",
       "      <td>1121.873900</td>\n",
       "    </tr>\n",
       "    <tr>\n",
       "      <th>25%</th>\n",
       "      <td>27.000000</td>\n",
       "      <td>11.000000</td>\n",
       "      <td>26.296250</td>\n",
       "      <td>0.000000</td>\n",
       "      <td>6.000000</td>\n",
       "      <td>2.000000</td>\n",
       "      <td>4740.287150</td>\n",
       "    </tr>\n",
       "    <tr>\n",
       "      <th>50%</th>\n",
       "      <td>39.000000</td>\n",
       "      <td>22.000000</td>\n",
       "      <td>30.400000</td>\n",
       "      <td>1.000000</td>\n",
       "      <td>6.000000</td>\n",
       "      <td>2.000000</td>\n",
       "      <td>9382.033000</td>\n",
       "    </tr>\n",
       "    <tr>\n",
       "      <th>75%</th>\n",
       "      <td>51.000000</td>\n",
       "      <td>22.000000</td>\n",
       "      <td>34.693750</td>\n",
       "      <td>2.000000</td>\n",
       "      <td>6.000000</td>\n",
       "      <td>3.000000</td>\n",
       "      <td>16639.912515</td>\n",
       "    </tr>\n",
       "    <tr>\n",
       "      <th>max</th>\n",
       "      <td>64.000000</td>\n",
       "      <td>22.000000</td>\n",
       "      <td>53.130000</td>\n",
       "      <td>5.000000</td>\n",
       "      <td>6.000000</td>\n",
       "      <td>4.000000</td>\n",
       "      <td>63770.428010</td>\n",
       "    </tr>\n",
       "  </tbody>\n",
       "</table>\n",
       "</div>"
      ],
      "text/plain": [
       "               age          sex          bmi     children       smoker  \\\n",
       "count  1338.000000  1338.000000  1338.000000  1338.000000  1338.000000   \n",
       "mean     39.207025    16.557549    30.663397     1.094918     5.795217   \n",
       "std      14.049960     5.501755     6.098187     1.205493     0.403694   \n",
       "min      18.000000    11.000000    15.960000     0.000000     5.000000   \n",
       "25%      27.000000    11.000000    26.296250     0.000000     6.000000   \n",
       "50%      39.000000    22.000000    30.400000     1.000000     6.000000   \n",
       "75%      51.000000    22.000000    34.693750     2.000000     6.000000   \n",
       "max      64.000000    22.000000    53.130000     5.000000     6.000000   \n",
       "\n",
       "            region       charges  \n",
       "count  1338.000000   1338.000000  \n",
       "mean      2.484305  13270.422265  \n",
       "std       1.104885  12110.011237  \n",
       "min       1.000000   1121.873900  \n",
       "25%       2.000000   4740.287150  \n",
       "50%       2.000000   9382.033000  \n",
       "75%       3.000000  16639.912515  \n",
       "max       4.000000  63770.428010  "
      ]
     },
     "execution_count": 85,
     "metadata": {},
     "output_type": "execute_result"
    }
   ],
   "source": [
    "df.describe()"
   ]
  },
  {
   "cell_type": "code",
   "execution_count": 86,
   "id": "7857c568",
   "metadata": {},
   "outputs": [
    {
     "data": {
      "text/html": [
       "<div>\n",
       "<style scoped>\n",
       "    .dataframe tbody tr th:only-of-type {\n",
       "        vertical-align: middle;\n",
       "    }\n",
       "\n",
       "    .dataframe tbody tr th {\n",
       "        vertical-align: top;\n",
       "    }\n",
       "\n",
       "    .dataframe thead th {\n",
       "        text-align: right;\n",
       "    }\n",
       "</style>\n",
       "<table border=\"1\" class=\"dataframe\">\n",
       "  <thead>\n",
       "    <tr style=\"text-align: right;\">\n",
       "      <th></th>\n",
       "      <th>count</th>\n",
       "      <th>mean</th>\n",
       "      <th>std</th>\n",
       "      <th>min</th>\n",
       "      <th>25%</th>\n",
       "      <th>50%</th>\n",
       "      <th>75%</th>\n",
       "      <th>max</th>\n",
       "    </tr>\n",
       "  </thead>\n",
       "  <tbody>\n",
       "    <tr>\n",
       "      <th>age</th>\n",
       "      <td>1338.0</td>\n",
       "      <td>39.207025</td>\n",
       "      <td>14.049960</td>\n",
       "      <td>18.0000</td>\n",
       "      <td>27.00000</td>\n",
       "      <td>39.000</td>\n",
       "      <td>51.000000</td>\n",
       "      <td>64.00000</td>\n",
       "    </tr>\n",
       "    <tr>\n",
       "      <th>sex</th>\n",
       "      <td>1338.0</td>\n",
       "      <td>16.557549</td>\n",
       "      <td>5.501755</td>\n",
       "      <td>11.0000</td>\n",
       "      <td>11.00000</td>\n",
       "      <td>22.000</td>\n",
       "      <td>22.000000</td>\n",
       "      <td>22.00000</td>\n",
       "    </tr>\n",
       "    <tr>\n",
       "      <th>bmi</th>\n",
       "      <td>1338.0</td>\n",
       "      <td>30.663397</td>\n",
       "      <td>6.098187</td>\n",
       "      <td>15.9600</td>\n",
       "      <td>26.29625</td>\n",
       "      <td>30.400</td>\n",
       "      <td>34.693750</td>\n",
       "      <td>53.13000</td>\n",
       "    </tr>\n",
       "    <tr>\n",
       "      <th>children</th>\n",
       "      <td>1338.0</td>\n",
       "      <td>1.094918</td>\n",
       "      <td>1.205493</td>\n",
       "      <td>0.0000</td>\n",
       "      <td>0.00000</td>\n",
       "      <td>1.000</td>\n",
       "      <td>2.000000</td>\n",
       "      <td>5.00000</td>\n",
       "    </tr>\n",
       "    <tr>\n",
       "      <th>smoker</th>\n",
       "      <td>1338.0</td>\n",
       "      <td>5.795217</td>\n",
       "      <td>0.403694</td>\n",
       "      <td>5.0000</td>\n",
       "      <td>6.00000</td>\n",
       "      <td>6.000</td>\n",
       "      <td>6.000000</td>\n",
       "      <td>6.00000</td>\n",
       "    </tr>\n",
       "    <tr>\n",
       "      <th>region</th>\n",
       "      <td>1338.0</td>\n",
       "      <td>2.484305</td>\n",
       "      <td>1.104885</td>\n",
       "      <td>1.0000</td>\n",
       "      <td>2.00000</td>\n",
       "      <td>2.000</td>\n",
       "      <td>3.000000</td>\n",
       "      <td>4.00000</td>\n",
       "    </tr>\n",
       "    <tr>\n",
       "      <th>charges</th>\n",
       "      <td>1338.0</td>\n",
       "      <td>13270.422265</td>\n",
       "      <td>12110.011237</td>\n",
       "      <td>1121.8739</td>\n",
       "      <td>4740.28715</td>\n",
       "      <td>9382.033</td>\n",
       "      <td>16639.912515</td>\n",
       "      <td>63770.42801</td>\n",
       "    </tr>\n",
       "  </tbody>\n",
       "</table>\n",
       "</div>"
      ],
      "text/plain": [
       "           count          mean           std        min         25%       50%  \\\n",
       "age       1338.0     39.207025     14.049960    18.0000    27.00000    39.000   \n",
       "sex       1338.0     16.557549      5.501755    11.0000    11.00000    22.000   \n",
       "bmi       1338.0     30.663397      6.098187    15.9600    26.29625    30.400   \n",
       "children  1338.0      1.094918      1.205493     0.0000     0.00000     1.000   \n",
       "smoker    1338.0      5.795217      0.403694     5.0000     6.00000     6.000   \n",
       "region    1338.0      2.484305      1.104885     1.0000     2.00000     2.000   \n",
       "charges   1338.0  13270.422265  12110.011237  1121.8739  4740.28715  9382.033   \n",
       "\n",
       "                   75%          max  \n",
       "age          51.000000     64.00000  \n",
       "sex          22.000000     22.00000  \n",
       "bmi          34.693750     53.13000  \n",
       "children      2.000000      5.00000  \n",
       "smoker        6.000000      6.00000  \n",
       "region        3.000000      4.00000  \n",
       "charges   16639.912515  63770.42801  "
      ]
     },
     "execution_count": 86,
     "metadata": {},
     "output_type": "execute_result"
    }
   ],
   "source": [
    "df.describe().T"
   ]
  },
  {
   "cell_type": "markdown",
   "id": "d1c0713f",
   "metadata": {},
   "source": [
    "# Data Visualization"
   ]
  },
  {
   "cell_type": "code",
   "execution_count": 87,
   "id": "cfaae2f4",
   "metadata": {},
   "outputs": [
    {
     "data": {
      "text/plain": [
       "<seaborn.axisgrid.FacetGrid at 0x24cb9914ad0>"
      ]
     },
     "execution_count": 87,
     "metadata": {},
     "output_type": "execute_result"
    },
    {
     "data": {
      "text/plain": [
       "<Figure size 1200x1200 with 0 Axes>"
      ]
     },
     "metadata": {},
     "output_type": "display_data"
    },
    {
     "data": {
      "image/png": "[encoded data removed]",
      "text/plain": [
       "<Figure size 500x500 with 1 Axes>"
      ]
     },
     "metadata": {},
     "output_type": "display_data"
    }
   ],
   "source": [
    "plt.figure(figsize=(12,12))\n",
    "sns.displot(df['charges'])"
   ]
  },
  {
   "cell_type": "code",
   "execution_count": 88,
   "id": "d2f1f125",
   "metadata": {},
   "outputs": [
    {
     "data": {
      "text/plain": [
       "<Axes: >"
      ]
     },
     "execution_count": 88,
     "metadata": {},
     "output_type": "execute_result"
    },
    {
     "data": {
      "image/png": "[encoded data removed]",
      "text/plain": [
       "<Figure size 2000x2000 with 2 Axes>"
      ]
     },
     "metadata": {},
     "output_type": "display_data"
    }
   ],
   "source": [
    "plt.figure(figsize=(20,20))\n",
    "sns.heatmap(df.corr(),annot=True)"
   ]
  },
  {
   "cell_type": "code",
   "execution_count": 89,
   "id": "b1a20984",
   "metadata": {},
   "outputs": [],
   "source": [
    "x = df.drop('charges',axis=1)\n",
    "y = df['charges']"
   ]
  },
  {
   "cell_type": "markdown",
   "id": "c0dd118f",
   "metadata": {},
   "source": [
    "# Split Train Test"
   ]
  },
  {
   "cell_type": "code",
   "execution_count": 90,
   "id": "5096abe8",
   "metadata": {},
   "outputs": [],
   "source": [
    "from sklearn.model_selection import train_test_split as tts\n",
    "xtrain,xtest,ytrain,ytest = tts(x,y,test_size=0.3,random_state=78)"
   ]
  },
  {
   "cell_type": "code",
   "execution_count": 91,
   "id": "0c8c8e6f",
   "metadata": {},
   "outputs": [
    {
     "data": {
      "text/html": [
       "<div>\n",
       "<style scoped>\n",
       "    .dataframe tbody tr th:only-of-type {\n",
       "        vertical-align: middle;\n",
       "    }\n",
       "\n",
       "    .dataframe tbody tr th {\n",
       "        vertical-align: top;\n",
       "    }\n",
       "\n",
       "    .dataframe thead th {\n",
       "        text-align: right;\n",
       "    }\n",
       "</style>\n",
       "<table border=\"1\" class=\"dataframe\">\n",
       "  <thead>\n",
       "    <tr style=\"text-align: right;\">\n",
       "      <th></th>\n",
       "      <th>age</th>\n",
       "      <th>sex</th>\n",
       "      <th>bmi</th>\n",
       "      <th>children</th>\n",
       "      <th>smoker</th>\n",
       "      <th>region</th>\n",
       "    </tr>\n",
       "  </thead>\n",
       "  <tbody>\n",
       "    <tr>\n",
       "      <th>62</th>\n",
       "      <td>64</td>\n",
       "      <td>22</td>\n",
       "      <td>24.700</td>\n",
       "      <td>1</td>\n",
       "      <td>6</td>\n",
       "      <td>3</td>\n",
       "    </tr>\n",
       "    <tr>\n",
       "      <th>861</th>\n",
       "      <td>38</td>\n",
       "      <td>11</td>\n",
       "      <td>28.000</td>\n",
       "      <td>3</td>\n",
       "      <td>6</td>\n",
       "      <td>1</td>\n",
       "    </tr>\n",
       "    <tr>\n",
       "      <th>973</th>\n",
       "      <td>19</td>\n",
       "      <td>11</td>\n",
       "      <td>40.500</td>\n",
       "      <td>0</td>\n",
       "      <td>6</td>\n",
       "      <td>1</td>\n",
       "    </tr>\n",
       "    <tr>\n",
       "      <th>209</th>\n",
       "      <td>40</td>\n",
       "      <td>22</td>\n",
       "      <td>41.230</td>\n",
       "      <td>1</td>\n",
       "      <td>6</td>\n",
       "      <td>4</td>\n",
       "    </tr>\n",
       "    <tr>\n",
       "      <th>849</th>\n",
       "      <td>55</td>\n",
       "      <td>22</td>\n",
       "      <td>32.775</td>\n",
       "      <td>0</td>\n",
       "      <td>6</td>\n",
       "      <td>3</td>\n",
       "    </tr>\n",
       "  </tbody>\n",
       "</table>\n",
       "</div>"
      ],
      "text/plain": [
       "     age  sex     bmi  children  smoker  region\n",
       "62    64   22  24.700         1       6       3\n",
       "861   38   11  28.000         3       6       1\n",
       "973   19   11  40.500         0       6       1\n",
       "209   40   22  41.230         1       6       4\n",
       "849   55   22  32.775         0       6       3"
      ]
     },
     "execution_count": 91,
     "metadata": {},
     "output_type": "execute_result"
    }
   ],
   "source": [
    "xtrain.head()"
   ]
  },
  {
   "cell_type": "code",
   "execution_count": 92,
   "id": "ec3db8c7",
   "metadata": {},
   "outputs": [
    {
     "data": {
      "text/plain": [
       "62     30166.61817\n",
       "861     7151.09200\n",
       "973     1759.33800\n",
       "209     6610.10970\n",
       "849    10601.63225\n",
       "Name: charges, dtype: float64"
      ]
     },
     "execution_count": 92,
     "metadata": {},
     "output_type": "execute_result"
    }
   ],
   "source": [
    "ytrain.head()"
   ]
  },
  {
   "cell_type": "code",
   "execution_count": 93,
   "id": "27c18fc5",
   "metadata": {},
   "outputs": [
    {
     "data": {
      "text/html": [
       "<div>\n",
       "<style scoped>\n",
       "    .dataframe tbody tr th:only-of-type {\n",
       "        vertical-align: middle;\n",
       "    }\n",
       "\n",
       "    .dataframe tbody tr th {\n",
       "        vertical-align: top;\n",
       "    }\n",
       "\n",
       "    .dataframe thead th {\n",
       "        text-align: right;\n",
       "    }\n",
       "</style>\n",
       "<table border=\"1\" class=\"dataframe\">\n",
       "  <thead>\n",
       "    <tr style=\"text-align: right;\">\n",
       "      <th></th>\n",
       "      <th>age</th>\n",
       "      <th>sex</th>\n",
       "      <th>bmi</th>\n",
       "      <th>children</th>\n",
       "      <th>smoker</th>\n",
       "      <th>region</th>\n",
       "    </tr>\n",
       "  </thead>\n",
       "  <tbody>\n",
       "    <tr>\n",
       "      <th>160</th>\n",
       "      <td>42</td>\n",
       "      <td>11</td>\n",
       "      <td>26.600</td>\n",
       "      <td>0</td>\n",
       "      <td>5</td>\n",
       "      <td>3</td>\n",
       "    </tr>\n",
       "    <tr>\n",
       "      <th>1326</th>\n",
       "      <td>42</td>\n",
       "      <td>11</td>\n",
       "      <td>32.870</td>\n",
       "      <td>0</td>\n",
       "      <td>6</td>\n",
       "      <td>4</td>\n",
       "    </tr>\n",
       "    <tr>\n",
       "      <th>544</th>\n",
       "      <td>54</td>\n",
       "      <td>22</td>\n",
       "      <td>30.210</td>\n",
       "      <td>0</td>\n",
       "      <td>6</td>\n",
       "      <td>3</td>\n",
       "    </tr>\n",
       "    <tr>\n",
       "      <th>624</th>\n",
       "      <td>59</td>\n",
       "      <td>22</td>\n",
       "      <td>28.785</td>\n",
       "      <td>0</td>\n",
       "      <td>6</td>\n",
       "      <td>3</td>\n",
       "    </tr>\n",
       "    <tr>\n",
       "      <th>914</th>\n",
       "      <td>33</td>\n",
       "      <td>22</td>\n",
       "      <td>24.605</td>\n",
       "      <td>2</td>\n",
       "      <td>6</td>\n",
       "      <td>3</td>\n",
       "    </tr>\n",
       "  </tbody>\n",
       "</table>\n",
       "</div>"
      ],
      "text/plain": [
       "      age  sex     bmi  children  smoker  region\n",
       "160    42   11  26.600         0       5       3\n",
       "1326   42   11  32.870         0       6       4\n",
       "544    54   22  30.210         0       6       3\n",
       "624    59   22  28.785         0       6       3\n",
       "914    33   22  24.605         2       6       3"
      ]
     },
     "execution_count": 93,
     "metadata": {},
     "output_type": "execute_result"
    }
   ],
   "source": [
    "xtest.head()"
   ]
  },
  {
   "cell_type": "code",
   "execution_count": 94,
   "id": "55f7b5f7",
   "metadata": {},
   "outputs": [
    {
     "data": {
      "text/plain": [
       "160     21348.70600\n",
       "1326     7050.02130\n",
       "544     10231.49990\n",
       "624     12129.61415\n",
       "914      5257.50795\n",
       "Name: charges, dtype: float64"
      ]
     },
     "execution_count": 94,
     "metadata": {},
     "output_type": "execute_result"
    }
   ],
   "source": [
    "ytest.head()"
   ]
  },
  {
   "cell_type": "code",
   "execution_count": 95,
   "id": "3e39a7bb",
   "metadata": {},
   "outputs": [],
   "source": [
    "from sklearn.linear_model import LinearRegression"
   ]
  },
  {
   "cell_type": "code",
   "execution_count": 96,
   "id": "f59feb98",
   "metadata": {},
   "outputs": [],
   "source": [
    "reg = LinearRegression()"
   ]
  },
  {
   "cell_type": "code",
   "execution_count": 97,
   "id": "67d0e078",
   "metadata": {},
   "outputs": [
    {
     "data": {
      "text/html": [
       "<style>#sk-container-id-2 {color: black;background-color: white;}#sk-container-id-2 pre{padding: 0;}#sk-container-id-2 div.sk-toggleable {background-color: white;}#sk-container-id-2 label.sk-toggleable__label {cursor: pointer;display: block;width: 100%;margin-bottom: 0;padding: 0.3em;box-sizing: border-box;text-align: center;}#sk-container-id-2 label.sk-toggleable__label-arrow:before {content: \"▸\";float: left;margin-right: 0.25em;color: #696969;}#sk-container-id-2 label.sk-toggleable__label-arrow:hover:before {color: black;}#sk-container-id-2 div.sk-estimator:hover label.sk-toggleable__label-arrow:before {color: black;}#sk-container-id-2 div.sk-toggleable__content {max-height: 0;max-width: 0;overflow: hidden;text-align: left;background-color: #f0f8ff;}#sk-container-id-2 div.sk-toggleable__content pre {margin: 0.2em;color: black;border-radius: 0.25em;background-color: #f0f8ff;}#sk-container-id-2 input.sk-toggleable__control:checked~div.sk-toggleable__content {max-height: 200px;max-width: 100%;overflow: auto;}#sk-container-id-2 input.sk-toggleable__control:checked~label.sk-toggleable__label-arrow:before {content: \"▾\";}#sk-container-id-2 div.sk-estimator input.sk-toggleable__control:checked~label.sk-toggleable__label {background-color: #d4ebff;}#sk-container-id-2 div.sk-label input.sk-toggleable__control:checked~label.sk-toggleable__label {background-color: #d4ebff;}#sk-container-id-2 input.sk-hidden--visually {border: 0;clip: rect(1px 1px 1px 1px);clip: rect(1px, 1px, 1px, 1px);height: 1px;margin: -1px;overflow: hidden;padding: 0;position: absolute;width: 1px;}#sk-container-id-2 div.sk-estimator {font-family: monospace;background-color: #f0f8ff;border: 1px dotted black;border-radius: 0.25em;box-sizing: border-box;margin-bottom: 0.5em;}#sk-container-id-2 div.sk-estimator:hover {background-color: #d4ebff;}#sk-container-id-2 div.sk-parallel-item::after {content: \"\";width: 100%;border-bottom: 1px solid gray;flex-grow: 1;}#sk-container-id-2 div.sk-label:hover label.sk-toggleable__label {background-color: #d4ebff;}#sk-container-id-2 div.sk-serial::before {content: \"\";position: absolute;border-left: 1px solid gray;box-sizing: border-box;top: 0;bottom: 0;left: 50%;z-index: 0;}#sk-container-id-2 div.sk-serial {display: flex;flex-direction: column;align-items: center;background-color: white;padding-right: 0.2em;padding-left: 0.2em;position: relative;}#sk-container-id-2 div.sk-item {position: relative;z-index: 1;}#sk-container-id-2 div.sk-parallel {display: flex;align-items: stretch;justify-content: center;background-color: white;position: relative;}#sk-container-id-2 div.sk-item::before, #sk-container-id-2 div.sk-parallel-item::before {content: \"\";position: absolute;border-left: 1px solid gray;box-sizing: border-box;top: 0;bottom: 0;left: 50%;z-index: -1;}#sk-container-id-2 div.sk-parallel-item {display: flex;flex-direction: column;z-index: 1;position: relative;background-color: white;}#sk-container-id-2 div.sk-parallel-item:first-child::after {align-self: flex-end;width: 50%;}#sk-container-id-2 div.sk-parallel-item:last-child::after {align-self: flex-start;width: 50%;}#sk-container-id-2 div.sk-parallel-item:only-child::after {width: 0;}#sk-container-id-2 div.sk-dashed-wrapped {border: 1px dashed gray;margin: 0 0.4em 0.5em 0.4em;box-sizing: border-box;padding-bottom: 0.4em;background-color: white;}#sk-container-id-2 div.sk-label label {font-family: monospace;font-weight: bold;display: inline-block;line-height: 1.2em;}#sk-container-id-2 div.sk-label-container {text-align: center;}#sk-container-id-2 div.sk-container {/* jupyter's `normalize.less` sets `[hidden] { display: none; }` but bootstrap.min.css set `[hidden] { display: none !important; }` so we also need the `!important` here to be able to override the default hidden behavior on the sphinx rendered scikit-learn.org. See: https://github.com/scikit-learn/scikit-learn/issues/21755 */display: inline-block !important;position: relative;}#sk-container-id-2 div.sk-text-repr-fallback {display: none;}</style><div id=\"sk-container-id-2\" class=\"sk-top-container\"><div class=\"sk-text-repr-fallback\"><pre>LinearRegression()</pre><b>In a Jupyter environment, please rerun this cell to show the HTML representation or trust the notebook. <br />On GitHub, the HTML representation is unable to render, please try loading this page with nbviewer.org.</b></div><div class=\"sk-container\" hidden><div class=\"sk-item\"><div class=\"sk-estimator sk-toggleable\"><input class=\"sk-toggleable__control sk-hidden--visually\" id=\"sk-estimator-id-2\" type=\"checkbox\" checked><label for=\"sk-estimator-id-2\" class=\"sk-toggleable__label sk-toggleable__label-arrow\">LinearRegression</label><div class=\"sk-toggleable__content\"><pre>LinearRegression()</pre></div></div></div></div></div>"
      ],
      "text/plain": [
       "LinearRegression()"
      ]
     },
     "execution_count": 97,
     "metadata": {},
     "output_type": "execute_result"
    }
   ],
   "source": [
    "reg.fit(xtrain,ytrain)"
   ]
  },
  {
   "cell_type": "code",
   "execution_count": 98,
   "id": "a7fdd0b3",
   "metadata": {
    "scrolled": true
   },
   "outputs": [
    {
     "data": {
      "text/plain": [
       "array([ 3.18196971e+04,  9.94921569e+03,  1.18467315e+04,  1.26869645e+04,\n",
       "        5.36027274e+03,  1.47288290e+04,  6.66700564e+03,  9.84632681e+03,\n",
       "        3.14406166e+04,  3.55668848e+04,  7.76026217e+03,  1.01233434e+04,\n",
       "        3.50274148e+03,  9.82513843e+03,  3.62939392e+04,  5.93289287e+03,\n",
       "        7.17224268e+03,  3.04485180e+04,  2.93162075e+04,  3.47197915e+04,\n",
       "        1.53036297e+04,  1.12906492e+04,  4.35604060e+03,  1.73316327e+03,\n",
       "        9.19032776e+03,  3.11604579e+04,  3.03369274e+04,  2.77624446e+03,\n",
       "        1.07592712e+04,  2.97249941e+04,  3.34112573e+03,  8.16370455e+03,\n",
       "        3.34455763e+03,  1.50739370e+04,  3.10418543e+04,  1.05314548e+04,\n",
       "        3.23658243e+03,  1.17242767e+04,  5.33978208e+02,  1.39349888e+04,\n",
       "        1.05441069e+02,  8.93789550e+03,  9.70942935e+03,  2.75703680e+04,\n",
       "        1.35080558e+04,  6.50366772e+03,  7.46783723e+03,  1.38162718e+04,\n",
       "        2.97531180e+03,  2.54880425e+04,  5.26075354e+03,  3.84154066e+03,\n",
       "        9.14091738e+03,  8.34355279e+03, -6.67897445e+02,  7.16906405e+03,\n",
       "        1.25271802e+04,  6.51159477e+03,  1.16654692e+04,  3.50811410e+04,\n",
       "        4.39706044e+03,  1.14613716e+04,  6.20194324e+03,  1.50824221e+03,\n",
       "        7.31377191e+03,  5.64817575e+03,  1.11563845e+04,  1.31327464e+04,\n",
       "        2.76235599e+04,  2.60672386e+03,  8.37011566e+03,  1.13056743e+04,\n",
       "        1.04622889e+04,  8.34935447e+03,  9.26900062e+03,  2.73681990e+03,\n",
       "        1.01491252e+04,  2.60896189e+03,  1.15764658e+04,  1.16054313e+04,\n",
       "        7.19307069e+03,  1.11437758e+04,  1.15406888e+04,  3.32165944e+04,\n",
       "        1.06416202e+04,  1.00985403e+04,  6.26106679e+03,  6.02744164e+03,\n",
       "        3.22960493e+04,  1.16808783e+04,  4.71433457e+03,  7.18829745e+03,\n",
       "        1.64352248e+04,  6.22467506e+03,  4.03541393e+03, -5.11592497e+02,\n",
       "        3.40337660e+04,  2.94769513e+04,  1.44770991e+04,  1.49343047e+04,\n",
       "        3.93205324e+04,  2.18320744e+03,  1.62194197e+04,  2.69526655e+03,\n",
       "        3.56324068e+04,  8.01112379e+03,  1.09166580e+04,  8.89184577e+03,\n",
       "        1.17007874e+04,  5.40686625e+03,  6.10743365e+03,  1.04837104e+04,\n",
       "        7.85957130e+03,  3.97537104e+04,  1.50769072e+04,  6.46999536e+03,\n",
       "        7.47939514e+03,  1.18861689e+04,  3.15162912e+04,  4.81278069e+03,\n",
       "        5.59855317e+03,  5.49815947e+03,  3.07763582e+04,  1.71771769e+03,\n",
       "        1.19997373e+04,  1.10969725e+03,  6.49834192e+03,  1.87281442e+04,\n",
       "        4.06687051e+03,  1.13139565e+04,  3.80976544e+04,  4.48885756e+03,\n",
       "        1.35705570e+04,  6.82467694e+03,  1.19714352e+04,  2.69526655e+03,\n",
       "        1.55199736e+04,  4.63260140e+03,  9.05052701e+03,  1.67942398e+04,\n",
       "        4.33313469e+03,  1.07217236e+04,  1.24472948e+04,  1.33377269e+04,\n",
       "        3.16870660e+04,  9.60587305e+03,  3.10909270e+03,  1.02720112e+04,\n",
       "        6.00489995e+03,  3.76333880e+04,  4.02319223e+04,  1.26827022e+04,\n",
       "        1.15189120e+04,  1.60733520e+04,  3.77098202e+04,  8.85704600e+03,\n",
       "        1.08119241e+04,  1.13069493e+04,  3.90276345e+03,  5.82755590e+03,\n",
       "        1.74142467e+04,  5.83425588e+03,  8.24220577e+03,  8.21449491e+03,\n",
       "        1.68455353e+04,  1.21392807e+04,  4.10064035e+04,  2.73831245e+04,\n",
       "        1.26478505e+04,  7.17724011e+03,  3.31475375e+04,  1.43943671e+04,\n",
       "        3.36894363e+04,  3.40828201e+04,  1.87541124e+03,  1.43997501e+04,\n",
       "        3.42221915e+03,  1.28876949e+04,  2.61400467e+04,  4.86774199e+03,\n",
       "        1.38135226e+04,  6.55556202e+03,  7.94258212e+03,  7.33212964e+03,\n",
       "        1.29708567e+04,  1.47257046e+04,  1.18721308e+04,  1.23684249e+04,\n",
       "        1.44470200e+04, -1.55985880e+03,  1.23570474e+04,  1.15945768e+04,\n",
       "        4.58607600e+03,  1.10465265e+04,  1.01484330e+04,  4.93679481e+03,\n",
       "        2.82943108e+04,  1.21869063e+04,  3.43099569e+04,  1.07901577e+04,\n",
       "        8.38227713e+03,  6.92290016e+03,  1.53614232e+04,  4.22806069e+03,\n",
       "        4.50784389e+03,  3.35133514e+04,  7.98418736e+03,  1.07634448e+04,\n",
       "        6.17291711e+03,  1.11179771e+04,  1.05413081e+03,  1.15099738e+04,\n",
       "        2.42762449e+04,  1.77459441e+03,  1.18302876e+04,  8.92386058e+03,\n",
       "        3.69112108e+04,  3.71692460e+03,  1.15705197e+04,  3.11020511e+04,\n",
       "        3.45132766e+03,  7.15743242e+03,  7.78960433e+03,  1.13244047e+04,\n",
       "        9.29986953e+03,  3.01682833e+03,  7.62958002e+02,  9.73205408e+03,\n",
       "        1.03441123e+04,  2.98324664e+04,  6.24789190e+03, -1.71723864e+01,\n",
       "        2.77313993e+04,  1.10795937e+04,  3.64927504e+04,  3.48128238e+04,\n",
       "        9.81700277e+03,  2.96222015e+04,  9.00261952e+03,  8.22584290e+03,\n",
       "        9.40036744e+03,  1.02573071e+04,  1.15035389e+04,  6.52667487e+03,\n",
       "        3.12665598e+04,  7.80306496e+03,  9.68623544e+03,  1.49733061e+04,\n",
       "        5.67630377e+03,  3.21618428e+04,  1.41087620e+04,  6.57453546e+03,\n",
       "        3.18429973e+04,  3.12410716e+04,  1.53163078e+04,  5.03138009e+03,\n",
       "        6.91947970e+03,  5.55052238e+03,  8.49623780e+03,  1.60494453e+03,\n",
       "        3.95644988e+04,  4.82255474e+03,  9.13329692e+03,  9.83116535e+03,\n",
       "        3.81052799e+04,  7.17514247e+03,  1.25983660e+03,  5.38436674e+03,\n",
       "        1.30774440e+04,  3.40942349e+04,  1.04487013e+04,  3.49492523e+03,\n",
       "        1.07926273e+04,  2.65582621e+04,  7.37436241e+03,  1.28994366e+04,\n",
       "        9.68606523e+03,  3.39946328e+04,  1.04629267e+04,  9.03516381e+03,\n",
       "        1.24848391e+04,  9.34720452e+03,  5.32734856e+03,  6.91067238e+03,\n",
       "        7.05835325e+03,  1.43087895e+03,  9.95275922e+03,  2.62360513e+03,\n",
       "        2.74426966e+03,  3.80311246e+03,  1.49008455e+04,  8.80320325e+03,\n",
       "        9.02795588e+03,  9.02445304e+03,  9.52782635e+03,  7.49014592e+03,\n",
       "        4.90597668e+03,  7.88316454e+03,  3.60387981e+03,  3.86292054e+02,\n",
       "        3.26100728e+04,  2.85562744e+04,  8.08486009e+02,  1.64249939e+04,\n",
       "        3.99807717e+03,  3.52057482e+04,  1.05805098e+04,  3.26940129e+04,\n",
       "        1.02336628e+04,  2.03163080e+03,  4.88147267e+03,  8.13369016e+03,\n",
       "        1.14174691e+04,  1.57480532e+03,  8.75851516e+03,  6.42951679e+03,\n",
       "        7.63238720e+03,  3.15474219e+04,  5.17434680e+03,  6.55000863e+03,\n",
       "        3.23378388e+03,  4.30459677e+03,  3.00570338e+04,  4.53984102e+02,\n",
       "        1.50946398e+04,  2.63200670e+04,  2.86329128e+04,  1.42005426e+04,\n",
       "        1.05113981e+04,  3.51307757e+04, -4.21749793e+02,  2.66342225e+04,\n",
       "        1.31760812e+04,  3.57689961e+04,  3.79223634e+04,  1.26255235e+04,\n",
       "        7.10293659e+03,  1.39034643e+04,  3.23786520e+04,  1.59732243e+04,\n",
       "        2.99104009e+03,  3.69394731e+02,  3.47628028e+04,  3.62645593e+03,\n",
       "        5.69466132e+03,  1.47347329e+04,  6.49229644e+03,  5.13949427e+03,\n",
       "        1.53273307e+04,  3.16644369e+03,  3.30116538e+03,  7.02608695e+03,\n",
       "        3.72469886e+04,  7.34820926e+03, -1.65646922e+03,  3.50799748e+03,\n",
       "        2.70464722e+04, -2.00541386e+03,  1.29286013e+04,  1.13547746e+04,\n",
       "        9.98750153e+03,  1.14633223e+04,  4.45058868e+03,  3.00336840e+03,\n",
       "        5.87918827e+03,  1.13053667e+04,  9.29238946e+03,  3.95641593e+04,\n",
       "        9.04945074e+03,  3.17652372e+04,  9.91524856e+03,  1.77481965e+03,\n",
       "        1.08284533e+04,  1.19525818e+04,  6.94863899e+03,  1.49111508e+04,\n",
       "        7.17733589e+03,  1.13067241e+04,  1.75875913e+04,  9.53249730e+03,\n",
       "        1.04337616e+04,  7.77909077e+03,  3.25378152e+03,  4.02235519e+04,\n",
       "        1.09129709e+04,  1.07585941e+04,  3.40359426e+03,  3.17341431e+04,\n",
       "        3.76594038e+04,  1.22957774e+04,  8.03150398e+03,  6.71162758e+03,\n",
       "        9.39004173e+03,  4.20834227e+03,  1.15298567e+04,  2.83213063e+04,\n",
       "        9.78931902e+03,  1.57208574e+04,  3.18140315e+03,  2.85526047e+04,\n",
       "        3.37552888e+04,  6.92887752e+03])"
      ]
     },
     "execution_count": 98,
     "metadata": {},
     "output_type": "execute_result"
    }
   ],
   "source": [
    "pred = reg.predict(xtest)\n",
    "pred"
   ]
  },
  {
   "cell_type": "code",
   "execution_count": 99,
   "id": "0a16db39",
   "metadata": {},
   "outputs": [
    {
     "data": {
      "text/html": [
       "<div>\n",
       "<style scoped>\n",
       "    .dataframe tbody tr th:only-of-type {\n",
       "        vertical-align: middle;\n",
       "    }\n",
       "\n",
       "    .dataframe tbody tr th {\n",
       "        vertical-align: top;\n",
       "    }\n",
       "\n",
       "    .dataframe thead th {\n",
       "        text-align: right;\n",
       "    }\n",
       "</style>\n",
       "<table border=\"1\" class=\"dataframe\">\n",
       "  <thead>\n",
       "    <tr style=\"text-align: right;\">\n",
       "      <th></th>\n",
       "      <th>Actual</th>\n",
       "      <th>Prediction</th>\n",
       "      <th>Difference</th>\n",
       "    </tr>\n",
       "  </thead>\n",
       "  <tbody>\n",
       "    <tr>\n",
       "      <th>160</th>\n",
       "      <td>21348.70600</td>\n",
       "      <td>31819.697093</td>\n",
       "      <td>10470.991093</td>\n",
       "    </tr>\n",
       "    <tr>\n",
       "      <th>1326</th>\n",
       "      <td>7050.02130</td>\n",
       "      <td>9949.215689</td>\n",
       "      <td>2899.194389</td>\n",
       "    </tr>\n",
       "    <tr>\n",
       "      <th>544</th>\n",
       "      <td>10231.49990</td>\n",
       "      <td>11846.731451</td>\n",
       "      <td>1615.231551</td>\n",
       "    </tr>\n",
       "    <tr>\n",
       "      <th>624</th>\n",
       "      <td>12129.61415</td>\n",
       "      <td>12686.964474</td>\n",
       "      <td>557.350324</td>\n",
       "    </tr>\n",
       "    <tr>\n",
       "      <th>914</th>\n",
       "      <td>5257.50795</td>\n",
       "      <td>5360.272744</td>\n",
       "      <td>102.764794</td>\n",
       "    </tr>\n",
       "  </tbody>\n",
       "</table>\n",
       "</div>"
      ],
      "text/plain": [
       "           Actual    Prediction    Difference\n",
       "160   21348.70600  31819.697093  10470.991093\n",
       "1326   7050.02130   9949.215689   2899.194389\n",
       "544   10231.49990  11846.731451   1615.231551\n",
       "624   12129.61415  12686.964474    557.350324\n",
       "914    5257.50795   5360.272744    102.764794"
      ]
     },
     "execution_count": 99,
     "metadata": {},
     "output_type": "execute_result"
    }
   ],
   "source": [
    "df_pred = pd.DataFrame({'Actual': ytest, 'Prediction': pred, 'Difference': abs(ytest-pred)})\n",
    "df_pred.head()"
   ]
  },
  {
   "cell_type": "code",
   "execution_count": 100,
   "id": "478c28b3",
   "metadata": {},
   "outputs": [
    {
     "data": {
      "text/plain": [
       "array([ 2.63714841e+02,  4.62200082e+00,  3.35678023e+02,  4.66514138e+02,\n",
       "       -2.44001834e+04,  4.25000800e+02])"
      ]
     },
     "execution_count": 100,
     "metadata": {},
     "output_type": "execute_result"
    }
   ],
   "source": [
    "m = reg.coef_\n",
    "m"
   ]
  },
  {
   "cell_type": "code",
   "execution_count": 101,
   "id": "892556e5",
   "metadata": {},
   "outputs": [
    {
     "data": {
      "text/plain": [
       "132489.71098347183"
      ]
     },
     "execution_count": 101,
     "metadata": {},
     "output_type": "execute_result"
    }
   ],
   "source": [
    "c = reg.intercept_\n",
    "c"
   ]
  },
  {
   "cell_type": "code",
   "execution_count": 102,
   "id": "b502a208",
   "metadata": {},
   "outputs": [
    {
     "data": {
      "text/plain": [
       "0.721662283019542"
      ]
     },
     "execution_count": 102,
     "metadata": {},
     "output_type": "execute_result"
    }
   ],
   "source": [
    "reg.score(xtest,ytest)"
   ]
  },
  {
   "cell_type": "code",
   "execution_count": 103,
   "id": "81db6d85",
   "metadata": {},
   "outputs": [],
   "source": [
    "from sklearn.metrics import mean_absolute_error, mean_squared_error, r2_score"
   ]
  },
  {
   "cell_type": "code",
   "execution_count": 104,
   "id": "533526d4",
   "metadata": {},
   "outputs": [],
   "source": [
    "mae = mean_absolute_error(ytest,pred)"
   ]
  },
  {
   "cell_type": "code",
   "execution_count": 105,
   "id": "cc7a2e96",
   "metadata": {},
   "outputs": [
    {
     "data": {
      "text/plain": [
       "4182.645271446238"
      ]
     },
     "execution_count": 105,
     "metadata": {},
     "output_type": "execute_result"
    }
   ],
   "source": [
    "mae"
   ]
  },
  {
   "cell_type": "code",
   "execution_count": 106,
   "id": "7a878e2c",
   "metadata": {},
   "outputs": [
    {
     "data": {
      "text/plain": [
       "36165270.13220979"
      ]
     },
     "execution_count": 106,
     "metadata": {},
     "output_type": "execute_result"
    }
   ],
   "source": [
    "mse = mean_squared_error(ytest,pred)\n",
    "mse"
   ]
  },
  {
   "cell_type": "code",
   "execution_count": 107,
   "id": "e20766ee",
   "metadata": {},
   "outputs": [],
   "source": [
    "accuracy = r2_score(ytest,pred)"
   ]
  },
  {
   "cell_type": "code",
   "execution_count": 108,
   "id": "638047fc",
   "metadata": {},
   "outputs": [
    {
     "data": {
      "text/plain": [
       "0.721662283019542"
      ]
     },
     "execution_count": 108,
     "metadata": {},
     "output_type": "execute_result"
    }
   ],
   "source": [
    "accuracy"
   ]
  },
  {
   "cell_type": "code",
   "execution_count": 109,
   "id": "18643cb4",
   "metadata": {},
   "outputs": [],
   "source": [
    "data = {'Name':['mae','mse','accuracy'],\n",
    "         'Accuracy':[mae,mse,r2_score]}\n",
    "df_after_pred = pd.DataFrame(data=data)"
   ]
  },
  {
   "cell_type": "code",
   "execution_count": 110,
   "id": "9a184704",
   "metadata": {},
   "outputs": [
    {
     "data": {
      "text/html": [
       "<div>\n",
       "<style scoped>\n",
       "    .dataframe tbody tr th:only-of-type {\n",
       "        vertical-align: middle;\n",
       "    }\n",
       "\n",
       "    .dataframe tbody tr th {\n",
       "        vertical-align: top;\n",
       "    }\n",
       "\n",
       "    .dataframe thead th {\n",
       "        text-align: right;\n",
       "    }\n",
       "</style>\n",
       "<table border=\"1\" class=\"dataframe\">\n",
       "  <thead>\n",
       "    <tr style=\"text-align: right;\">\n",
       "      <th></th>\n",
       "      <th>Name</th>\n",
       "      <th>Accuracy</th>\n",
       "    </tr>\n",
       "  </thead>\n",
       "  <tbody>\n",
       "    <tr>\n",
       "      <th>0</th>\n",
       "      <td>mae</td>\n",
       "      <td>4182.645271</td>\n",
       "    </tr>\n",
       "    <tr>\n",
       "      <th>1</th>\n",
       "      <td>mse</td>\n",
       "      <td>36165270.13221</td>\n",
       "    </tr>\n",
       "    <tr>\n",
       "      <th>2</th>\n",
       "      <td>accuracy</td>\n",
       "      <td>&lt;function r2_score at 0x0000024CB4D42660&gt;</td>\n",
       "    </tr>\n",
       "  </tbody>\n",
       "</table>\n",
       "</div>"
      ],
      "text/plain": [
       "       Name                                   Accuracy\n",
       "0       mae                                4182.645271\n",
       "1       mse                             36165270.13221\n",
       "2  accuracy  <function r2_score at 0x0000024CB4D42660>"
      ]
     },
     "execution_count": 110,
     "metadata": {},
     "output_type": "execute_result"
    }
   ],
   "source": [
    "df_after_pred.head()"
   ]
  },
  {
   "cell_type": "code",
   "execution_count": 114,
   "id": "776da815",
   "metadata": {},
   "outputs": [],
   "source": [
    "x = df['age']\n",
    "y = df['bmi']"
   ]
  },
  {
   "cell_type": "code",
   "execution_count": 115,
   "id": "658f9f58",
   "metadata": {},
   "outputs": [
    {
     "data": {
      "text/plain": [
       "1338"
      ]
     },
     "execution_count": 115,
     "metadata": {},
     "output_type": "execute_result"
    }
   ],
   "source": [
    "m=0\n",
    "c=0\n",
    "learning_rate = 0.0001\n",
    "\n",
    "n = int(len(x))\n",
    "n"
   ]
  },
  {
   "cell_type": "code",
   "execution_count": 116,
   "id": "644041e6",
   "metadata": {},
   "outputs": [
    {
     "data": {
      "text/plain": [
       "(1338, 7)"
      ]
     },
     "execution_count": 116,
     "metadata": {},
     "output_type": "execute_result"
    }
   ],
   "source": [
    "df.shape"
   ]
  },
  {
   "cell_type": "code",
   "execution_count": 117,
   "id": "7ce7c0f8",
   "metadata": {},
   "outputs": [
    {
     "name": "stdout",
     "output_type": "stream",
     "text": [
      "0.6835957079174643 0.6628731357999709\n"
     ]
    }
   ],
   "source": [
    "for i in range(1000):\n",
    "    pred = m*x+c\n",
    "    der_m = (-2/n)*sum(x*(y-pred))\n",
    "    der_c =  (-2/n)*sum(y-pred)\n",
    "    \n",
    "    m = m - learning_rate*der_m\n",
    "    c = c - learning_rate*der_c\n",
    "print(m,c)    \n",
    "    \n",
    "    "
   ]
  },
  {
   "cell_type": "code",
   "execution_count": 118,
   "id": "e1e9cf82",
   "metadata": {},
   "outputs": [
    {
     "data": {
      "text/plain": [
       "37.57704136334304"
      ]
     },
     "execution_count": 118,
     "metadata": {},
     "output_type": "execute_result"
    }
   ],
   "source": [
    "y = m*54+c\n",
    "y  \n",
    "    "
   ]
  },
  {
   "cell_type": "markdown",
   "id": "259808c7",
   "metadata": {},
   "source": [
    "# Least Square Method"
   ]
  },
  {
   "cell_type": "code",
   "execution_count": 119,
   "id": "dc3679ab",
   "metadata": {},
   "outputs": [
    {
     "data": {
      "text/html": [
       "<style>#sk-container-id-3 {color: black;background-color: white;}#sk-container-id-3 pre{padding: 0;}#sk-container-id-3 div.sk-toggleable {background-color: white;}#sk-container-id-3 label.sk-toggleable__label {cursor: pointer;display: block;width: 100%;margin-bottom: 0;padding: 0.3em;box-sizing: border-box;text-align: center;}#sk-container-id-3 label.sk-toggleable__label-arrow:before {content: \"▸\";float: left;margin-right: 0.25em;color: #696969;}#sk-container-id-3 label.sk-toggleable__label-arrow:hover:before {color: black;}#sk-container-id-3 div.sk-estimator:hover label.sk-toggleable__label-arrow:before {color: black;}#sk-container-id-3 div.sk-toggleable__content {max-height: 0;max-width: 0;overflow: hidden;text-align: left;background-color: #f0f8ff;}#sk-container-id-3 div.sk-toggleable__content pre {margin: 0.2em;color: black;border-radius: 0.25em;background-color: #f0f8ff;}#sk-container-id-3 input.sk-toggleable__control:checked~div.sk-toggleable__content {max-height: 200px;max-width: 100%;overflow: auto;}#sk-container-id-3 input.sk-toggleable__control:checked~label.sk-toggleable__label-arrow:before {content: \"▾\";}#sk-container-id-3 div.sk-estimator input.sk-toggleable__control:checked~label.sk-toggleable__label {background-color: #d4ebff;}#sk-container-id-3 div.sk-label input.sk-toggleable__control:checked~label.sk-toggleable__label {background-color: #d4ebff;}#sk-container-id-3 input.sk-hidden--visually {border: 0;clip: rect(1px 1px 1px 1px);clip: rect(1px, 1px, 1px, 1px);height: 1px;margin: -1px;overflow: hidden;padding: 0;position: absolute;width: 1px;}#sk-container-id-3 div.sk-estimator {font-family: monospace;background-color: #f0f8ff;border: 1px dotted black;border-radius: 0.25em;box-sizing: border-box;margin-bottom: 0.5em;}#sk-container-id-3 div.sk-estimator:hover {background-color: #d4ebff;}#sk-container-id-3 div.sk-parallel-item::after {content: \"\";width: 100%;border-bottom: 1px solid gray;flex-grow: 1;}#sk-container-id-3 div.sk-label:hover label.sk-toggleable__label {background-color: #d4ebff;}#sk-container-id-3 div.sk-serial::before {content: \"\";position: absolute;border-left: 1px solid gray;box-sizing: border-box;top: 0;bottom: 0;left: 50%;z-index: 0;}#sk-container-id-3 div.sk-serial {display: flex;flex-direction: column;align-items: center;background-color: white;padding-right: 0.2em;padding-left: 0.2em;position: relative;}#sk-container-id-3 div.sk-item {position: relative;z-index: 1;}#sk-container-id-3 div.sk-parallel {display: flex;align-items: stretch;justify-content: center;background-color: white;position: relative;}#sk-container-id-3 div.sk-item::before, #sk-container-id-3 div.sk-parallel-item::before {content: \"\";position: absolute;border-left: 1px solid gray;box-sizing: border-box;top: 0;bottom: 0;left: 50%;z-index: -1;}#sk-container-id-3 div.sk-parallel-item {display: flex;flex-direction: column;z-index: 1;position: relative;background-color: white;}#sk-container-id-3 div.sk-parallel-item:first-child::after {align-self: flex-end;width: 50%;}#sk-container-id-3 div.sk-parallel-item:last-child::after {align-self: flex-start;width: 50%;}#sk-container-id-3 div.sk-parallel-item:only-child::after {width: 0;}#sk-container-id-3 div.sk-dashed-wrapped {border: 1px dashed gray;margin: 0 0.4em 0.5em 0.4em;box-sizing: border-box;padding-bottom: 0.4em;background-color: white;}#sk-container-id-3 div.sk-label label {font-family: monospace;font-weight: bold;display: inline-block;line-height: 1.2em;}#sk-container-id-3 div.sk-label-container {text-align: center;}#sk-container-id-3 div.sk-container {/* jupyter's `normalize.less` sets `[hidden] { display: none; }` but bootstrap.min.css set `[hidden] { display: none !important; }` so we also need the `!important` here to be able to override the default hidden behavior on the sphinx rendered scikit-learn.org. See: https://github.com/scikit-learn/scikit-learn/issues/21755 */display: inline-block !important;position: relative;}#sk-container-id-3 div.sk-text-repr-fallback {display: none;}</style><div id=\"sk-container-id-3\" class=\"sk-top-container\"><div class=\"sk-text-repr-fallback\"><pre>LinearRegression()</pre><b>In a Jupyter environment, please rerun this cell to show the HTML representation or trust the notebook. <br />On GitHub, the HTML representation is unable to render, please try loading this page with nbviewer.org.</b></div><div class=\"sk-container\" hidden><div class=\"sk-item\"><div class=\"sk-estimator sk-toggleable\"><input class=\"sk-toggleable__control sk-hidden--visually\" id=\"sk-estimator-id-3\" type=\"checkbox\" checked><label for=\"sk-estimator-id-3\" class=\"sk-toggleable__label sk-toggleable__label-arrow\">LinearRegression</label><div class=\"sk-toggleable__content\"><pre>LinearRegression()</pre></div></div></div></div></div>"
      ],
      "text/plain": [
       "LinearRegression()"
      ]
     },
     "execution_count": 119,
     "metadata": {},
     "output_type": "execute_result"
    }
   ],
   "source": [
    "reg.fit(df[['age']],df['bmi'])"
   ]
  },
  {
   "cell_type": "code",
   "execution_count": 120,
   "id": "55ad78c0",
   "metadata": {},
   "outputs": [
    {
     "data": {
      "text/plain": [
       "array([31.36499684])"
      ]
     },
     "execution_count": 120,
     "metadata": {},
     "output_type": "execute_result"
    }
   ],
   "source": [
    "reg.predict([[54]])"
   ]
  },
  {
   "cell_type": "code",
   "execution_count": 122,
   "id": "4b2dd90f",
   "metadata": {},
   "outputs": [],
   "source": []
  },
  {
   "cell_type": "code",
   "execution_count": 123,
   "id": "81bae8d3",
   "metadata": {},
   "outputs": [],
   "source": []
  },
  {
   "cell_type": "code",
   "execution_count": null,
   "id": "78e1b5fa",
   "metadata": {},
   "outputs": [],
   "source": []
  }
 ],
 "metadata": {
  "kernelspec": {
   "display_name": "Python 3 (ipykernel)",
   "language": "python",
   "name": "python3"
  },
  "language_info": {
   "codemirror_mode": {
    "name": "ipython",
    "version": 3
   },
   "file_extension": ".py",
   "mimetype": "text/x-python",
   "name": "python",
   "nbconvert_exporter": "python",
   "pygments_lexer": "ipython3",
   "version": "3.11.3"
  }
 },
 "nbformat": 4,
 "nbformat_minor": 5
}
